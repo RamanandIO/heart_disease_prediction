{
  "nbformat": 4,
  "nbformat_minor": 0,
  "metadata": {
    "colab": {
      "provenance": []
    },
    "kernelspec": {
      "name": "python3",
      "display_name": "Python 3"
    },
    "language_info": {
      "name": "python"
    }
  },
  "cells": [
    {
      "cell_type": "markdown",
      "source": [
        "#IMPORTING THE REQUIRED LIBRARIES\n"
      ],
      "metadata": {
        "id": "oM9YzAgE2RS7"
      }
    },
    {
      "cell_type": "code",
      "execution_count": 3,
      "metadata": {
        "id": "uPmGJ1uwhy9H"
      },
      "outputs": [],
      "source": [
        "import pandas as pd\n",
        "import numpy as np\n",
        "from sklearn.model_selection import train_test_split\n",
        "from sklearn.preprocessing import StandardScaler\n",
        "from sklearn.svm import SVC\n",
        "from sklearn.tree import DecisionTreeClassifier\n",
        "from sklearn.ensemble import RandomForestClassifier\n",
        "from sklearn.metrics import accuracy_score\n",
        "from sklearn.model_selection import cross_val_score\n",
        "from sklearn.metrics import accuracy_score, classification_report\n",
        "import matplotlib.pyplot as plt\n"
      ]
    },
    {
      "cell_type": "markdown",
      "source": [
        "#VECTORISING THE VALUES"
      ],
      "metadata": {
        "id": "fkKcUUqd2jqV"
      }
    },
    {
      "cell_type": "code",
      "source": [
        "dataset = pd.read_csv('/content/sample_data/heart_disease_dataset.csv')\n",
        "\n",
        "dataset['Alcohol Intake'].fillna(dataset['Alcohol Intake'].mode()[0], inplace=True)\n",
        "\n",
        "def convert_alcohol_intake(h):\n",
        "    return 0 if h == 'Heavy' else 1\n",
        "dataset['Alcohol Intake'] = dataset['Alcohol Intake'].map(convert_alcohol_intake)\n",
        "\n",
        "def convert_num(h):\n",
        "    return 0 if h == 'Yes' else 1\n",
        "\n",
        "dataset['Family History'] = dataset['Family History'].map(convert_num)\n",
        "dataset['Diabetes'] = dataset['Diabetes'].map(convert_num)\n",
        "dataset['Obesity'] = dataset['Obesity'].map(convert_num)\n",
        "dataset['Exercise Induced Angina'] = dataset['Exercise Induced Angina'].map(convert_num)\n",
        "\n",
        "def chest_pain(j):\n",
        "    if j == 'Atypical Angina': return 0\n",
        "    elif j == 'Typical Angina': return 1\n",
        "    elif j == 'Non-anginal Pain': return 2\n",
        "    else: return 3\n",
        "dataset['Chest Pain Type'] = dataset['Chest Pain Type'].map(chest_pain)\n",
        "\n",
        "def gender(k):\n",
        "    return 1 if k == 'Male' else 0\n",
        "dataset['Gender'] = dataset['Gender'].map(gender)\n",
        "\n",
        "def smoke(h):\n",
        "    if h == 'Current': return 0\n",
        "    elif h == 'Never': return 1\n",
        "    else: return 2\n",
        "dataset['Smoking'] = dataset['Smoking'].map(smoke)\n",
        "\n",
        "dataset['Heart Disease'] = dataset['Heart Disease'].dropna()\n"
      ],
      "metadata": {
        "id": "A5lG6n5ohz0d"
      },
      "execution_count": null,
      "outputs": []
    },
    {
      "cell_type": "markdown",
      "source": [
        "#HANDLING THE MISSING VALUES"
      ],
      "metadata": {
        "id": "Vp-xQNAG2w6-"
      }
    },
    {
      "cell_type": "code",
      "source": [
        "df = dataset.drop(columns='Heart Disease', axis=1)\n",
        "target = dataset['Heart Disease']\n",
        "\n",
        "if target.isnull().sum() > 0:\n",
        "    print(\"There are missing values in the target column.\")\n",
        "    dataset.dropna(subset=['Heart Disease'], inplace=True)\n",
        "    df = dataset.drop(columns='Heart Disease', axis=1)\n",
        "    target = dataset['Heart Disease']"
      ],
      "metadata": {
        "id": "92IKUlVqiNFj"
      },
      "execution_count": null,
      "outputs": []
    },
    {
      "cell_type": "markdown",
      "source": [
        "#STANDARDISING THE DATA"
      ],
      "metadata": {
        "id": "zIBnkL0421WT"
      }
    },
    {
      "cell_type": "code",
      "source": [
        "scaler = StandardScaler()\n",
        "scaled_data = scaler.fit_transform(df)"
      ],
      "metadata": {
        "id": "n-jJYeA9ifO6"
      },
      "execution_count": 6,
      "outputs": []
    },
    {
      "cell_type": "markdown",
      "source": [
        "#SPLITTING THE DATA"
      ],
      "metadata": {
        "id": "2KNHpDa828KO"
      }
    },
    {
      "cell_type": "code",
      "source": [
        "x_train, x_test, y_train, y_test = train_test_split(scaled_data, target, test_size=0.2, stratify=target, random_state=3)\n"
      ],
      "metadata": {
        "id": "5SVMTCisicBp"
      },
      "execution_count": 7,
      "outputs": []
    },
    {
      "cell_type": "markdown",
      "source": [
        "#USING SUPPOERT VECTOR CLASSIFICATION"
      ],
      "metadata": {
        "id": "yexWEleN3BKP"
      }
    },
    {
      "cell_type": "code",
      "source": [
        "from sklearn import svm\n",
        "from sklearn.svm import SVC\n",
        "classifier1=svm.SVC(kernel='linear') #support vector classification\n",
        "cross_val_scores1 = cross_val_score(classifier1, x_train, y_train, cv=5, scoring='accuracy')\n",
        "print(cross_val_scores1.mean())"
      ],
      "metadata": {
        "id": "x2u1_cwslIWz"
      },
      "execution_count": null,
      "outputs": []
    },
    {
      "cell_type": "markdown",
      "source": [
        "#USING DECISION TREE CLASSIFIER"
      ],
      "metadata": {
        "id": "wwN0VZmj3Lvi"
      }
    },
    {
      "cell_type": "code",
      "source": [
        "classifier3=DecisionTreeClassifier()\n",
        "cross_val_scores3 = cross_val_score(classifier3, x_train, y_train, cv=5, scoring='accuracy')\n",
        "print(cross_val_scores3.mean())"
      ],
      "metadata": {
        "id": "ZrIqG3TmlZ6K"
      },
      "execution_count": null,
      "outputs": []
    },
    {
      "cell_type": "code",
      "source": [
        "cross_val_scores3t = cross_val_score(classifier3, x_test, y_test, cv=5, scoring='accuracy')\n",
        "print(cross_val_scores3t.mean())"
      ],
      "metadata": {
        "id": "Lfq6mblzl0GN"
      },
      "execution_count": null,
      "outputs": []
    },
    {
      "cell_type": "markdown",
      "source": [
        "#USING RANDOM FOREST CLASSIFIER"
      ],
      "metadata": {
        "id": "-HZ6SLIv3VUy"
      }
    },
    {
      "cell_type": "code",
      "source": [
        "classifier2 = RandomForestClassifier(criterion=\"gini\", max_depth=10, max_features=\"sqrt\",\n",
        "                                     min_samples_leaf=1, min_samples_split=7, n_estimators=400,\n",
        "                                     class_weight='balanced')"
      ],
      "metadata": {
        "id": "-5LrqUx2lGoW"
      },
      "execution_count": 11,
      "outputs": []
    },
    {
      "cell_type": "code",
      "source": [
        "cross_val_scores2 = cross_val_score(classifier2, x_train, y_train, cv=5, scoring='accuracy')\n",
        "print(f\"Cross-validation accuracy (training data): {cross_val_scores2.mean()}\")"
      ],
      "metadata": {
        "id": "UEnLEzbHik2r"
      },
      "execution_count": null,
      "outputs": []
    },
    {
      "cell_type": "code",
      "source": [
        "cross_val_scores2t = cross_val_score(classifier2, x_test, y_test, cv=5, scoring='accuracy')\n",
        "print(cross_val_scores2.mean())"
      ],
      "metadata": {
        "id": "Ik5lgi8nltH-"
      },
      "execution_count": null,
      "outputs": []
    },
    {
      "cell_type": "code",
      "source": [
        "classifier2.fit(x_train, y_train)\n",
        "\n",
        "y_pred = classifier2.predict(x_test)\n",
        "\n",
        "accuracy = accuracy_score(y_test, y_pred)\n",
        "print(f\"Accuracy on test data: {accuracy}\")\n"
      ],
      "metadata": {
        "id": "gtvm5pmHip-R"
      },
      "execution_count": null,
      "outputs": []
    },
    {
      "cell_type": "markdown",
      "source": [
        "#PREDICTIVE SYSTEM"
      ],
      "metadata": {
        "id": "Hazl67pB3dIf"
      }
    },
    {
      "cell_type": "code",
      "source": [
        "random_sample = dataset.sample(n=100, random_state=42)\n",
        "\n",
        "sample_features = random_sample.drop(columns='Heart Disease', axis=1)\n",
        "\n",
        "predictions = classifier2.predict(scaler.transform(sample_features))\n",
        "\n",
        "random_sample['Predicted Heart Disease'] = predictions\n",
        "random_sample['Actual Heart Disease'] = random_sample['Heart Disease']\n",
        "\n",
        "random_sample.to_csv('/content/predicted_heart_disease.csv', index=False)\n",
        "\n",
        "print(\"Predictions for 100 entries have been stored in 'predicted_heart_disease.csv'.\")\n",
        "\n",
        "new_data = [50, 1, 200, 80, 1, 0, 1, 0, 0, 2, 1, 0, 1, 0, 1]\n",
        "prediction = classifier2.predict([scaler.transform([new_data])[0]])  # Use the classifier to predict new data\n",
        "print(f\"Prediction for new data: {'Heart Disease' if prediction == 1 else 'No Heart Disease'}\")\n"
      ],
      "metadata": {
        "id": "ynu1l8KxizWF"
      },
      "execution_count": null,
      "outputs": []
    },
    {
      "cell_type": "markdown",
      "source": [
        "#TAKING DATA FROM THE USER"
      ],
      "metadata": {
        "id": "8BnoNndN3gsV"
      }
    },
    {
      "cell_type": "code",
      "source": [
        "import datetime\n",
        "import pandas as pd\n",
        "from sklearn.preprocessing import StandardScaler\n",
        "from sklearn.ensemble import RandomForestClassifier\n",
        "\n",
        "def take_user_input():\n",
        "    name = input(\"Patient's Name: \")\n",
        "    age = int(input(\"Age: \"))\n",
        "    gender = int(input(\"Gender (Enter 1 for Male, 0 for Female): \"))\n",
        "    cholesterol = int(input(\"Cholesterol Level: \"))\n",
        "    blood_pressure = int(input(\"Blood Pressure Level: \"))\n",
        "    heart_rate = int(input(\"Heart Rate: \"))\n",
        "    smoking = int(input(\"Smoking Status (Enter 0 for Current, 1 for Never, 2 for Ex-smoker): \"))\n",
        "    alcohol_intake = int(input(\"Alcohol Intake (Enter 0 for Heavy, 1 for Light/None): \"))\n",
        "    exercise_hours = int(input(\"Exercise Hours per Week: \"))\n",
        "    family_history = int(input(\"Family History of Heart Disease (Enter 0 for Yes, 1 for No): \"))\n",
        "    diabetes = int(input(\"Diabetes (Enter 0 for Yes, 1 for No): \"))\n",
        "    obesity = int(input(\"Obesity (Enter 0 for Yes, 1 for No): \"))\n",
        "    stress_level = int(input(\"Stress Level (Enter a value between 0-10): \"))\n",
        "    blood_sugar = int(input(\"Blood Sugar Level (Enter 0 for High, 1 for Normal): \"))\n",
        "    exercise_induced_angina = int(input(\"Exercise Induced Angina (Enter 0 for Yes, 1 for No): \"))\n",
        "    chest_pain_type = int(input(\"Chest Pain Type (Enter 0 for Atypical Angina, 1 for Typical Angina, 2 for Non-anginal Pain, 3 for Asymptomatic): \"))\n",
        "    date_time = datetime.datetime.now().strftime(\"%Y-%m-%d %H:%M:%S\")\n",
        "\n",
        "    data = {\n",
        "        'Age': age,\n",
        "        'Gender': gender,\n",
        "        'Cholesterol': cholesterol,\n",
        "        'Blood Pressure': blood_pressure,\n",
        "        'Heart Rate': heart_rate,\n",
        "        'Smoking': smoking,\n",
        "        'Alcohol Intake': alcohol_intake,\n",
        "        'Exercise Hours': exercise_hours,\n",
        "        'Family History': family_history,\n",
        "        'Diabetes': diabetes,\n",
        "        'Obesity': obesity,\n",
        "        'Stress Level': stress_level,\n",
        "        'Blood Sugar': blood_sugar,\n",
        "        'Exercise Induced Angina': exercise_induced_angina,\n",
        "        'Chest Pain Type': chest_pain_type,\n",
        "    }\n",
        "\n",
        "    input_data = pd.DataFrame([data])\n",
        "    input_scaled = scaler.transform(input_data)\n",
        "\n",
        "    heart_disease_prediction = classifier2.predict(input_scaled)[0]\n",
        "\n",
        "    data['Heart Disease Prediction'] = heart_disease_prediction\n",
        "    data['Date'] = date_time.split()[0]\n",
        "    data['Time'] = date_time.split()[1]\n",
        "\n",
        "    return data\n",
        "\n",
        "user_input = take_user_input()\n",
        "\n",
        "user_df = pd.DataFrame([user_input])\n",
        "\n",
        "user_df.to_csv('/content/patient_data.csv', mode='a', header=not pd.io.common.file_exists('/content/patient_data.csv'), index=False)\n",
        "\n",
        "print(\"Patient data has been saved in 'patient_data.csv'.\")\n"
      ],
      "metadata": {
        "id": "tvivyCAj1tl3"
      },
      "execution_count": null,
      "outputs": []
    }
  ]
}