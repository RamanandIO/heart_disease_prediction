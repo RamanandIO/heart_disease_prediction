{
  "nbformat": 4,
  "nbformat_minor": 0,
  "metadata": {
    "colab": {
      "provenance": []
    },
    "kernelspec": {
      "name": "python3",
      "display_name": "Python 3"
    },
    "language_info": {
      "name": "python"
    }
  },
  "cells": [
    {
      "cell_type": "code",
      "execution_count": 20,
      "metadata": {
        "id": "uPmGJ1uwhy9H"
      },
      "outputs": [],
      "source": [
        "import pandas as pd\n",
        "import numpy as np\n",
        "from sklearn.model_selection import train_test_split\n",
        "from sklearn.preprocessing import StandardScaler\n",
        "from sklearn.svm import SVC\n",
        "from sklearn.tree import DecisionTreeClassifier\n",
        "from sklearn.ensemble import RandomForestClassifier\n",
        "from sklearn.metrics import accuracy_score\n",
        "from sklearn.model_selection import cross_val_score\n",
        "from sklearn.metrics import accuracy_score, classification_report\n",
        "import matplotlib.pyplot as plt\n"
      ]
    },
    {
      "cell_type": "code",
      "source": [
        "dataset = pd.read_csv('/content/sample_data/heart_disease_dataset.csv')\n",
        "\n",
        "dataset['Alcohol Intake'].fillna(dataset['Alcohol Intake'].mode()[0], inplace=True)\n",
        "\n",
        "def convert_alcohol_intake(h):\n",
        "    return 0 if h == 'Heavy' else 1\n",
        "dataset['Alcohol Intake'] = dataset['Alcohol Intake'].map(convert_alcohol_intake)\n",
        "\n",
        "def convert_num(h):\n",
        "    return 0 if h == 'Yes' else 1\n",
        "\n",
        "dataset['Family History'] = dataset['Family History'].map(convert_num)\n",
        "dataset['Diabetes'] = dataset['Diabetes'].map(convert_num)\n",
        "dataset['Obesity'] = dataset['Obesity'].map(convert_num)\n",
        "dataset['Exercise Induced Angina'] = dataset['Exercise Induced Angina'].map(convert_num)\n",
        "\n",
        "def chest_pain(j):\n",
        "    if j == 'Atypical Angina': return 0\n",
        "    elif j == 'Typical Angina': return 1\n",
        "    elif j == 'Non-anginal Pain': return 2\n",
        "    else: return 3\n",
        "dataset['Chest Pain Type'] = dataset['Chest Pain Type'].map(chest_pain)\n",
        "\n",
        "def gender(k):\n",
        "    return 1 if k == 'Male' else 0\n",
        "dataset['Gender'] = dataset['Gender'].map(gender)\n",
        "\n",
        "def smoke(h):\n",
        "    if h == 'Current': return 0\n",
        "    elif h == 'Never': return 1\n",
        "    else: return 2\n",
        "dataset['Smoking'] = dataset['Smoking'].map(smoke)\n",
        "\n",
        "dataset['Heart Disease'] = dataset['Heart Disease'].dropna()\n"
      ],
      "metadata": {
        "colab": {
          "base_uri": "https://localhost:8080/"
        },
        "id": "A5lG6n5ohz0d",
        "outputId": "d43b6ddd-3e5e-46ef-c320-a0eaf7282fa6"
      },
      "execution_count": 21,
      "outputs": [
        {
          "output_type": "stream",
          "name": "stderr",
          "text": [
            "<ipython-input-21-2c51d4d92823>:3: FutureWarning: A value is trying to be set on a copy of a DataFrame or Series through chained assignment using an inplace method.\n",
            "The behavior will change in pandas 3.0. This inplace method will never work because the intermediate object on which we are setting values always behaves as a copy.\n",
            "\n",
            "For example, when doing 'df[col].method(value, inplace=True)', try using 'df.method({col: value}, inplace=True)' or df[col] = df[col].method(value) instead, to perform the operation inplace on the original object.\n",
            "\n",
            "\n",
            "  dataset['Alcohol Intake'].fillna(dataset['Alcohol Intake'].mode()[0], inplace=True)\n"
          ]
        }
      ]
    },
    {
      "cell_type": "code",
      "source": [
        "df = dataset.drop(columns='Heart Disease', axis=1)\n",
        "target = dataset['Heart Disease']\n",
        "\n",
        "if target.isnull().sum() > 0:\n",
        "    print(\"There are missing values in the target column.\")\n",
        "    dataset.dropna(subset=['Heart Disease'], inplace=True)\n",
        "    df = dataset.drop(columns='Heart Disease', axis=1)\n",
        "    target = dataset['Heart Disease']"
      ],
      "metadata": {
        "colab": {
          "base_uri": "https://localhost:8080/"
        },
        "id": "92IKUlVqiNFj",
        "outputId": "09e5a23f-9ebf-4c92-b567-352e37922d46"
      },
      "execution_count": 22,
      "outputs": [
        {
          "output_type": "stream",
          "name": "stdout",
          "text": [
            "There are missing values in the target column.\n"
          ]
        }
      ]
    },
    {
      "cell_type": "code",
      "source": [
        "scaler = StandardScaler()\n",
        "scaled_data = scaler.fit_transform(df)"
      ],
      "metadata": {
        "id": "n-jJYeA9ifO6"
      },
      "execution_count": 23,
      "outputs": []
    },
    {
      "cell_type": "code",
      "source": [
        "x_train, x_test, y_train, y_test = train_test_split(scaled_data, target, test_size=0.2, stratify=target, random_state=3)\n"
      ],
      "metadata": {
        "id": "5SVMTCisicBp"
      },
      "execution_count": 24,
      "outputs": []
    },
    {
      "cell_type": "code",
      "source": [
        "from sklearn import svm\n",
        "from sklearn.svm import SVC\n",
        "classifier1=svm.SVC(kernel='linear') #support vector classification\n",
        "cross_val_scores1 = cross_val_score(classifier1, x_train, y_train, cv=5, scoring='accuracy')\n",
        "print(cross_val_scores1.mean())"
      ],
      "metadata": {
        "colab": {
          "base_uri": "https://localhost:8080/"
        },
        "id": "x2u1_cwslIWz",
        "outputId": "31bc2eec-99a3-4dfd-81c8-7889d97c845c"
      },
      "execution_count": 25,
      "outputs": [
        {
          "output_type": "stream",
          "name": "stdout",
          "text": [
            "0.8572877358490565\n"
          ]
        }
      ]
    },
    {
      "cell_type": "code",
      "source": [
        "classifier3=DecisionTreeClassifier()\n",
        "cross_val_scores3 = cross_val_score(classifier3, x_train, y_train, cv=5, scoring='accuracy')\n",
        "print(cross_val_scores3.mean())"
      ],
      "metadata": {
        "colab": {
          "base_uri": "https://localhost:8080/"
        },
        "id": "ZrIqG3TmlZ6K",
        "outputId": "05d026f1-bcfc-4b5a-d9f9-911795029481"
      },
      "execution_count": 26,
      "outputs": [
        {
          "output_type": "stream",
          "name": "stdout",
          "text": [
            "0.9974999999999999\n"
          ]
        }
      ]
    },
    {
      "cell_type": "code",
      "source": [
        "cross_val_scores3t = cross_val_score(classifier3, x_test, y_test, cv=5, scoring='accuracy')\n",
        "print(cross_val_scores3t.mean())"
      ],
      "metadata": {
        "colab": {
          "base_uri": "https://localhost:8080/"
        },
        "id": "Lfq6mblzl0GN",
        "outputId": "fc3ee907-5746-46be-e182-169d7d3e4ac8"
      },
      "execution_count": 27,
      "outputs": [
        {
          "output_type": "stream",
          "name": "stdout",
          "text": [
            "1.0\n"
          ]
        }
      ]
    },
    {
      "cell_type": "code",
      "source": [
        "classifier2 = RandomForestClassifier(criterion=\"gini\", max_depth=10, max_features=\"sqrt\",\n",
        "                                     min_samples_leaf=1, min_samples_split=7, n_estimators=400,\n",
        "                                     class_weight='balanced')"
      ],
      "metadata": {
        "id": "-5LrqUx2lGoW"
      },
      "execution_count": 28,
      "outputs": []
    },
    {
      "cell_type": "code",
      "source": [
        "cross_val_scores2 = cross_val_score(classifier2, x_train, y_train, cv=5, scoring='accuracy')\n",
        "print(f\"Cross-validation accuracy (training data): {cross_val_scores2.mean()}\")"
      ],
      "metadata": {
        "colab": {
          "base_uri": "https://localhost:8080/"
        },
        "id": "UEnLEzbHik2r",
        "outputId": "5ce400ec-a066-4a15-a909-8826a562458f"
      },
      "execution_count": 29,
      "outputs": [
        {
          "output_type": "stream",
          "name": "stdout",
          "text": [
            "Cross-validation accuracy (training data): 0.9974999999999999\n"
          ]
        }
      ]
    },
    {
      "cell_type": "code",
      "source": [
        "cross_val_scores2t = cross_val_score(classifier2, x_test, y_test, cv=5, scoring='accuracy')\n",
        "print(cross_val_scores2.mean())"
      ],
      "metadata": {
        "colab": {
          "base_uri": "https://localhost:8080/"
        },
        "id": "Ik5lgi8nltH-",
        "outputId": "8bd362df-6cfc-42dd-e902-0dba3ba20bc6"
      },
      "execution_count": 30,
      "outputs": [
        {
          "output_type": "stream",
          "name": "stdout",
          "text": [
            "0.9974999999999999\n"
          ]
        }
      ]
    },
    {
      "cell_type": "code",
      "source": [
        "classifier2.fit(x_train, y_train)\n",
        "\n",
        "y_pred = classifier2.predict(x_test)\n",
        "\n",
        "accuracy = accuracy_score(y_test, y_pred)\n",
        "print(f\"Accuracy on test data: {accuracy}\")\n"
      ],
      "metadata": {
        "colab": {
          "base_uri": "https://localhost:8080/"
        },
        "id": "gtvm5pmHip-R",
        "outputId": "0fea6210-1759-4b4c-ef91-6ed4d4fc84d0"
      },
      "execution_count": 31,
      "outputs": [
        {
          "output_type": "stream",
          "name": "stdout",
          "text": [
            "Accuracy on test data: 1.0\n"
          ]
        }
      ]
    },
    {
      "cell_type": "code",
      "source": [
        "random_sample = dataset.sample(n=100, random_state=42)\n",
        "\n",
        "sample_features = random_sample.drop(columns='Heart Disease', axis=1)\n",
        "\n",
        "predictions = classifier2.predict(scaler.transform(sample_features))\n",
        "\n",
        "random_sample['Predicted Heart Disease'] = predictions\n",
        "random_sample['Actual Heart Disease'] = random_sample['Heart Disease']\n",
        "\n",
        "random_sample.to_csv('/content/predicted_heart_disease.csv', index=False)\n",
        "\n",
        "print(\"Predictions for 100 entries have been stored in 'predicted_heart_disease.csv'.\")\n",
        "\n",
        "new_data = [50, 1, 200, 80, 1, 0, 1, 0, 0, 2, 1, 0, 1, 0, 1]\n",
        "prediction = classifier2.predict([scaler.transform([new_data])[0]])  # Use the classifier to predict new data\n",
        "print(f\"Prediction for new data: {'Heart Disease' if prediction == 1 else 'No Heart Disease'}\")\n"
      ],
      "metadata": {
        "colab": {
          "base_uri": "https://localhost:8080/"
        },
        "id": "ynu1l8KxizWF",
        "outputId": "79d301e9-f9e2-415f-b2ea-47f405d4ebee"
      },
      "execution_count": 32,
      "outputs": [
        {
          "output_type": "stream",
          "name": "stdout",
          "text": [
            "Predictions for 100 entries have been stored in 'predicted_heart_disease.csv'.\n",
            "Prediction for new data: No Heart Disease\n"
          ]
        },
        {
          "output_type": "stream",
          "name": "stderr",
          "text": [
            "/usr/local/lib/python3.10/dist-packages/sklearn/utils/validation.py:2739: UserWarning: X does not have valid feature names, but StandardScaler was fitted with feature names\n",
            "  warnings.warn(\n"
          ]
        }
      ]
    }
  ]
}